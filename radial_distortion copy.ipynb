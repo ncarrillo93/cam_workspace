{
 "cells": [
  {
   "cell_type": "markdown",
   "metadata": {},
   "source": [
    "### Elementos de salida de  cv.calibrateCamera()\n",
    "\n",
    "- ret:\n",
    "- mtx:   Matriz intrínseca de cámara de coma flotante de 3x3 de entrada/salida\n",
    "- dist:  Vector de entrada/salida de coeficientes de distorsión\n",
    "- rvecs: Vector de salida de vectores de rotación\n",
    "- tvecs: Vector de salida de los vectores de traducción estimados para cada vista de patrón, consulte la descripción de parámetros anterior."
   ]
  },
  {
   "cell_type": "code",
   "execution_count": 28,
   "metadata": {},
   "outputs": [],
   "source": [
    "import numpy as np\n",
    "import cv2 as cv\n",
    "import glob\n",
    "\n",
    "class Parameters:\n",
    "    ret   = None\n",
    "    mtx   = None\n",
    "    dist  = None\n",
    "    rvecs = None\n",
    "    tvecs = None\n",
    "    def __init__(self,ret, mtx, dist, rvecs, tvecs):\n",
    "        self.ret   = ret\n",
    "        self.mtx   = mtx\n",
    "        self.dist  = dist\n",
    "        self.rvecs = rvecs\n",
    "        self.tvecs = tvecs"
   ]
  },
  {
   "cell_type": "code",
   "execution_count": 59,
   "metadata": {},
   "outputs": [],
   "source": [
    "\n",
    "def calibrate(path_images,extension_images,size_chessboard): #'img/images/far/ path example\n",
    "    # termination criteria\n",
    "    criteria = (cv.TERM_CRITERIA_EPS + cv.TERM_CRITERIA_MAX_ITER, int(size_chessboard), 0.001)\n",
    "    a,b=9,6\n",
    "    # prepare object points, like (0,0,0), (1,0,0), (2,0,0) ....,(6,5,0)\n",
    "    objp = np.zeros((6*7,3), np.float32)\n",
    "    objp[:,:2] = np.mgrid[0:7,0:6].T.reshape(-1,2)\n",
    "    # Arrays to store object points and image points from all the images.\n",
    "    objpoints = [] # 3d point in real world space\n",
    "    imgpoints = [] # 2d points in image plane.\n",
    "    images = glob.glob(path_images+'*.'+extension_images)\n",
    "    #print(images)\n",
    "    for fname in images:\n",
    "        img = cv.imread(fname)\n",
    "        gray = cv.cvtColor(img, cv.COLOR_BGR2GRAY)\n",
    "        # Find the chess board corners\n",
    "        ret, corners = cv.findChessboardCorners(img, (a,b), None)\n",
    "        # If found, add object points, image points (after refining them)\n",
    "        if ret == True:\n",
    "            objpoints.append(objp)\n",
    "            corners2 = cv.cornerSubPix(gray,corners, (a,b), (-1,-1), criteria)\n",
    "            imgpoints.append(corners)\n",
    "            cv.drawChessboardCorners(img, (a,b), corners2, ret)\n",
    "            cv.imshow('img '+str(fname), cv.resize(img,(600,400)))\n",
    "            #cv.waitKey(100)\n",
    "        cv.destroyAllWindows()\n",
    "    ret, mtx, dist, rvecs, tvecs = cv.calibrateCamera(objpoints, imgpoints, gray.shape[::-1], None, None)\n",
    "    return Parameters(ret,mtx,dist,rvecs,tvecs)"
   ]
  },
  {
   "cell_type": "code",
   "execution_count": 40,
   "metadata": {},
   "outputs": [],
   "source": [
    "def radial_correction(path_images,extension_images,parameters):\n",
    "    images = glob.glob(path_images+'*.'+extension_images)\n",
    "    for fname in images:\n",
    "        img = cv.imread(fname)\n",
    "        h,  w = img.shape[:2]\n",
    "        newcameramtx, roi = cv.getOptimalNewCameraMatrix(parameters.mtx, parameters.dist, (w,h), 1, (w,h))\n",
    "        # undistort\n",
    "        dst = cv.undistort(img, parameters.mtx, parameters.dist, None, newcameramtx)\n",
    "        # crop the image\n",
    "        x, y, w, h = roi\n",
    "        dst = dst[y:y+h, x:x+w]\n",
    "        cv.imwrite(fname, dst)"
   ]
  },
  {
   "cell_type": "code",
   "execution_count": 41,
   "metadata": {},
   "outputs": [],
   "source": [
    "def radial_correction_beta(path_images,extension_images,parameters):\n",
    "    images = glob.glob(path_images+'*.'+extension_images)\n",
    "    for fname in images:\n",
    "        img = cv.imread(fname)\n",
    "        h,  w = img.shape[:2]\n",
    "        newcameramtx, roi = cv.getOptimalNewCameraMatrix(parameters.mtx, parameters.dist, (w,h), 1, (w,h))\n",
    "        # undistort\n",
    "        mapx, mapy = cv.initUndistortRectifyMap(parameters.mtx, parameters.dist, None, newcameramtx, (w,h), 5)\n",
    "        dst = cv.remap(img, mapx, mapy, cv.INTER_LINEAR)\n",
    "        # crop the image\n",
    "        x, y, w, h = roi\n",
    "        dst = dst[y:y+h, x:x+w]\n",
    "        cv.imwrite(fname, dst)"
   ]
  },
  {
   "cell_type": "markdown",
   "metadata": {},
   "source": [
    "# Test"
   ]
  },
  {
   "cell_type": "code",
   "execution_count": 60,
   "metadata": {},
   "outputs": [
    {
     "ename": "error",
     "evalue": "OpenCV(4.5.5) D:\\a\\opencv-python\\opencv-python\\opencv\\modules\\calib3d\\src\\calibration.cpp:3358: error: (-2:Unspecified error) in function 'void __cdecl cv::collectCalibrationData(const class cv::_InputArray &,const class cv::_InputArray &,const class cv::_InputArray &,int,class cv::Mat &,class cv::Mat &,class cv::Mat *,class cv::Mat &)'\n> Number of object and image points must be equal (expected: 'numberOfObjectPoints == numberOfImagePoints'), where\n>     'numberOfObjectPoints' is 42\n> must be equal to\n>     'numberOfImagePoints' is 54\n",
     "output_type": "error",
     "traceback": [
      "\u001b[1;31m---------------------------------------------------------------------------\u001b[0m",
      "\u001b[1;31merror\u001b[0m                                     Traceback (most recent call last)",
      "\u001b[1;32m~\\AppData\\Local\\Temp/ipykernel_14452/3653136754.py\u001b[0m in \u001b[0;36m<module>\u001b[1;34m\u001b[0m\n\u001b[0;32m      2\u001b[0m \u001b[0mextension\u001b[0m\u001b[1;33m=\u001b[0m\u001b[1;34m'jpg'\u001b[0m\u001b[1;33m\u001b[0m\u001b[1;33m\u001b[0m\u001b[0m\n\u001b[0;32m      3\u001b[0m \u001b[1;33m\u001b[0m\u001b[0m\n\u001b[1;32m----> 4\u001b[1;33m \u001b[0mParameters\u001b[0m\u001b[1;33m=\u001b[0m\u001b[0mParameters\u001b[0m\u001b[1;33m(\u001b[0m\u001b[0mcalibrate\u001b[0m\u001b[1;33m(\u001b[0m\u001b[0mpath\u001b[0m\u001b[1;33m,\u001b[0m\u001b[0mextension\u001b[0m\u001b[1;33m,\u001b[0m\u001b[1;36m30\u001b[0m\u001b[1;33m)\u001b[0m\u001b[1;33m)\u001b[0m\u001b[1;33m\u001b[0m\u001b[1;33m\u001b[0m\u001b[0m\n\u001b[0m",
      "\u001b[1;32m~\\AppData\\Local\\Temp/ipykernel_14452/1679979826.py\u001b[0m in \u001b[0;36mcalibrate\u001b[1;34m(path_images, extension_images, size_chessboard)\u001b[0m\n\u001b[0;32m     25\u001b[0m             \u001b[1;31m#cv.waitKey(100)\u001b[0m\u001b[1;33m\u001b[0m\u001b[1;33m\u001b[0m\u001b[0m\n\u001b[0;32m     26\u001b[0m         \u001b[0mcv\u001b[0m\u001b[1;33m.\u001b[0m\u001b[0mdestroyAllWindows\u001b[0m\u001b[1;33m(\u001b[0m\u001b[1;33m)\u001b[0m\u001b[1;33m\u001b[0m\u001b[1;33m\u001b[0m\u001b[0m\n\u001b[1;32m---> 27\u001b[1;33m     \u001b[0mret\u001b[0m\u001b[1;33m,\u001b[0m \u001b[0mmtx\u001b[0m\u001b[1;33m,\u001b[0m \u001b[0mdist\u001b[0m\u001b[1;33m,\u001b[0m \u001b[0mrvecs\u001b[0m\u001b[1;33m,\u001b[0m \u001b[0mtvecs\u001b[0m \u001b[1;33m=\u001b[0m \u001b[0mcv\u001b[0m\u001b[1;33m.\u001b[0m\u001b[0mcalibrateCamera\u001b[0m\u001b[1;33m(\u001b[0m\u001b[0mobjpoints\u001b[0m\u001b[1;33m,\u001b[0m \u001b[0mimgpoints\u001b[0m\u001b[1;33m,\u001b[0m \u001b[0mgray\u001b[0m\u001b[1;33m.\u001b[0m\u001b[0mshape\u001b[0m\u001b[1;33m[\u001b[0m\u001b[1;33m:\u001b[0m\u001b[1;33m:\u001b[0m\u001b[1;33m-\u001b[0m\u001b[1;36m1\u001b[0m\u001b[1;33m]\u001b[0m\u001b[1;33m,\u001b[0m \u001b[1;32mNone\u001b[0m\u001b[1;33m,\u001b[0m \u001b[1;32mNone\u001b[0m\u001b[1;33m)\u001b[0m\u001b[1;33m\u001b[0m\u001b[1;33m\u001b[0m\u001b[0m\n\u001b[0m\u001b[0;32m     28\u001b[0m     \u001b[1;32mreturn\u001b[0m \u001b[0mParameters\u001b[0m\u001b[1;33m(\u001b[0m\u001b[0mret\u001b[0m\u001b[1;33m,\u001b[0m\u001b[0mmtx\u001b[0m\u001b[1;33m,\u001b[0m\u001b[0mdist\u001b[0m\u001b[1;33m,\u001b[0m\u001b[0mrvecs\u001b[0m\u001b[1;33m,\u001b[0m\u001b[0mtvecs\u001b[0m\u001b[1;33m)\u001b[0m\u001b[1;33m\u001b[0m\u001b[1;33m\u001b[0m\u001b[0m\n",
      "\u001b[1;31merror\u001b[0m: OpenCV(4.5.5) D:\\a\\opencv-python\\opencv-python\\opencv\\modules\\calib3d\\src\\calibration.cpp:3358: error: (-2:Unspecified error) in function 'void __cdecl cv::collectCalibrationData(const class cv::_InputArray &,const class cv::_InputArray &,const class cv::_InputArray &,int,class cv::Mat &,class cv::Mat &,class cv::Mat *,class cv::Mat &)'\n> Number of object and image points must be equal (expected: 'numberOfObjectPoints == numberOfImagePoints'), where\n>     'numberOfObjectPoints' is 42\n> must be equal to\n>     'numberOfImagePoints' is 54\n"
     ]
    }
   ],
   "source": [
    "path='img/images/far/'\n",
    "extension='jpg'\n",
    "\n",
    "Parameters=Parameters(calibrate(path,extension,30))\n"
   ]
  },
  {
   "cell_type": "code",
   "execution_count": null,
   "metadata": {},
   "outputs": [],
   "source": [
    "'''\n",
    "mean_error = 0\n",
    "for i in range(len(objpoints)):\n",
    "    imgpoints2, _ = cv.projectPoints(objpoints[i], rvecs[i], tvecs[i], mtx, dist)\n",
    "    error = cv.norm(imgpoints[i], imgpoints2, cv.NORM_L2)/len(imgpoints2)\n",
    "    mean_error += error\n",
    "print( \"total error: {}\".format(mean_error/len(objpoints)) )\n",
    "'''"
   ]
  }
 ],
 "metadata": {
  "interpreter": {
   "hash": "c63d8c7d738c2960218a10995aedf0a7f67a49a231e71037adf0440953cdb45b"
  },
  "kernelspec": {
   "display_name": "Python 3.10.0 64-bit",
   "language": "python",
   "name": "python3"
  },
  "language_info": {
   "codemirror_mode": {
    "name": "ipython",
    "version": 3
   },
   "file_extension": ".py",
   "mimetype": "text/x-python",
   "name": "python",
   "nbconvert_exporter": "python",
   "pygments_lexer": "ipython3",
   "version": "3.10.0"
  },
  "orig_nbformat": 4
 },
 "nbformat": 4,
 "nbformat_minor": 2
}
