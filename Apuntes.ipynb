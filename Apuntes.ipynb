{
 "cells": [
  {
   "cell_type": "code",
   "execution_count": 41,
   "metadata": {},
   "outputs": [
    {
     "name": "stdout",
     "output_type": "stream",
     "text": [
      "[('a', 'a', 'a'), ('a', 'a', 'b'), ('a', 'a', 'c'), ('z', 'z', 'z')]\n",
      "['aaa', 'aab', 'aac', 'zzz']\n"
     ]
    }
   ],
   "source": [
    "list= [('a','a','a'),('a','a','b'),('a','a','c'),('z','z','z')]\n",
    "listAux=[]\n",
    "print(list)\n",
    "for i in range(0,len(list)):\n",
    "    a=list[i]\n",
    "    aux=''\n",
    "    for j in range(0,len(a)):\n",
    "        aux=aux+a[j]\n",
    "    listAux.append(aux)\n",
    "\n",
    "print(listAux)"
   ]
  },
  {
   "cell_type": "code",
   "execution_count": 25,
   "metadata": {},
   "outputs": [
    {
     "data": {
      "text/plain": [
       "'z'"
      ]
     },
     "execution_count": 25,
     "metadata": {},
     "output_type": "execute_result"
    }
   ],
   "source": [
    "a[]"
   ]
  },
  {
   "cell_type": "markdown",
   "metadata": {},
   "source": [
    "# Apuntes\n",
    "\n",
    "*   [Documentación de OpenMV](https://docs.openmv.io/)\n",
    "\n",
    "*   [Documentación de MicroPython](https://docs.micropython.org/en/latest/index.html)\n",
    "\n",
    "* La libreria IO puede servir para generar documentos. Ademas, la libreria json permite codificar y decodificar archivos de formato JSON\n",
    "\n",
    "    *   [Libreria IO](https://docs.micropython.org/en/latest/library/io.html)\n",
    "    *   [Libreria ImageIO](https://docs.openmv.io/library/omv.image.html#class-imageio-imageio-object)\n",
    "    *   [Libreria JSON](https://docs.micropython.org/en/latest/library/json.html)\n",
    "    *   [Ejemplo uso de Json en python](https://www.w3schools.com/python/python_json.asp)\n",
    "\n",
    "### control del led \n",
    "```python\n",
    "import pyb\n",
    "red_led = pyb.LED(1)\n",
    "green_led = pyb.LED(2)\n",
    "blue_led = pyb.LED(3)\n",
    "pyb.LED.on()\n",
    "pyb.LED.off()\n",
    "pyb.LED.toggle()\n",
    "```"
   ]
  },
  {
   "cell_type": "markdown",
   "metadata": {},
   "source": [
    "# Setear y guardar valores de los parametros y guardas en un JSON"
   ]
  },
  {
   "cell_type": "code",
   "execution_count": null,
   "metadata": {},
   "outputs": [],
   "source": [
    "import pandas as pd\n",
    "import json\n",
    "import glob\n",
    "import matplotlib.pyplot as plt\n",
    "\n",
    "temp = pd.DataFrame()\n",
    "array = [0,40,80,120]\n",
    "file_list=[]\n",
    "for i in array:\n",
    "    json_pattern = os.path.join('json/'+str(i)+'W exp_var','*.json')\n",
    "    file_list.append(glob.glob(json_pattern))\n",
    "    for j in file_list:\n",
    "        for file in j:\n",
    "            data = pd.read_json(file,lines=True)\n",
    "            temp = temp.append(data,ignore_index=True)\n",
    "temp=temp.sort_values('potencia')\n"
   ]
  },
  {
   "cell_type": "markdown",
   "metadata": {},
   "source": [
    "# procesamiento de imagenes"
   ]
  },
  {
   "cell_type": "code",
   "execution_count": null,
   "metadata": {},
   "outputs": [],
   "source": [
    "from skimage import data, io, filters\n",
    "import pandas as pd\n",
    "import json\n",
    "import glob\n",
    "\n",
    "fotografia = 15\n",
    "temp = pd.DataFrame()\n",
    "json_pattern_40W = os.path.join('images/40W exp_var/','*.bmp')\n",
    "json_pattern_80W = os.path.join('images/80W exp_var/','*.bmp')\n",
    "json_pattern_120W = os.path.join('images/120W exp_var/','*.bmp')\n",
    "file_list40W = glob.glob(json_pattern_40W)\n",
    "file_list80W = glob.glob(json_pattern_80W)\n",
    "file_list120W = glob.glob(json_pattern_120W)\n",
    "image_40W  =  file_list40W[fotografia]\n",
    "image_80W  =  file_list80W[fotografia]\n",
    "image_120W = file_list120W[fotografia]\n"
   ]
  },
  {
   "cell_type": "code",
   "execution_count": null,
   "metadata": {},
   "outputs": [],
   "source": [
    "import matplotlib.pyplot as plt\n",
    "import matplotlib.image as mpimg\n",
    "\n",
    "img_40W=mpimg.imread(image_40W,0)\n",
    "img_80W=mpimg.imread(image_80W,0)\n",
    "img_120W=mpimg.imread(image_120W,0)"
   ]
  },
  {
   "cell_type": "code",
   "execution_count": null,
   "metadata": {},
   "outputs": [],
   "source": [
    "print(image_40W,' ',image_40W,' ',image_120W)\n",
    "print(img_40W.shape,' ',img_80W.shape,' ',img_120W.shape)"
   ]
  },
  {
   "cell_type": "code",
   "execution_count": null,
   "metadata": {},
   "outputs": [],
   "source": [
    "fig,(ax1,ax2,ax3) = plt.subplots(1,3)\n",
    "fig.suptitle('imagenes')\n",
    "fig.set_size_inches(18.5, 10.5)\n",
    "ax1.title.set_text(image_40W)\n",
    "ax2.title.set_text(image_80W)\n",
    "ax3.title.set_text(image_120W)\n",
    "ax1.imshow(img_40W).set_cmap('gray')\n",
    "ax2.imshow(img_80W).set_cmap('gray')\n",
    "ax3.imshow(img_120W).set_cmap('gray')\n"
   ]
  },
  {
   "cell_type": "code",
   "execution_count": null,
   "metadata": {},
   "outputs": [],
   "source": [
    "\n",
    "fig,(ax1,ax2,ax3) = plt.subplots(1,3)\n",
    "fig.suptitle('Histogramas')\n",
    "fig.set_size_inches(30.5, 10.5)\n",
    "\n",
    "ax1.title.set_text(image_40W)\n",
    "ax1.set_xlabel('brillo')\n",
    "ax1.set_ylabel('nro. pixeles')\n",
    "ax1.hist(img_40W.ravel(),256,(0,256))\n",
    "\n",
    "\n",
    "ax2.title.set_text(image_80W)\n",
    "ax2.set_xlabel('brillo')\n",
    "ax2.set_ylabel('nro. pixeles')\n",
    "ax2.hist(img_80W.ravel(),256,(0,256))\n",
    "\n",
    "\n",
    "ax3.title.set_text(image_120W)\n",
    "ax3.set_xlabel('brillo')\n",
    "ax3.set_ylabel('nro. pixeles')\n",
    "ax3.hist(img_120W.ravel(),256,(0,256))\n",
    "\n",
    "plt.show()"
   ]
  },
  {
   "cell_type": "code",
   "execution_count": null,
   "metadata": {},
   "outputs": [],
   "source": [
    "fig,(ax1) = plt.subplots(1)\n",
    "fig.suptitle('Histogramas sobrepuestos/ 0.5 seg exposicion')\n",
    "fig.set_size_inches(18.5, 10.5)\n",
    "\n",
    "ax1.title.set_text(str(image_40W)+'/'+str(image_80W)+'/'+str(image_120W))\n",
    "ax1.set_xlabel('brillo')\n",
    "ax1.set_ylabel('nro. pixeles')\n",
    "ax1.hist(img_40W.ravel(),256,(0,256),label='40W')\n",
    "ax1.hist(img_80W.ravel(),256,(0,256),label='80W')\n",
    "ax1.hist(img_120W.ravel(),256,(0,256),label='120W')\n",
    "plt.legend()\n",
    "\n",
    "plt.show()"
   ]
  },
  {
   "cell_type": "markdown",
   "metadata": {},
   "source": [
    "# Codigos de apunte"
   ]
  },
  {
   "cell_type": "markdown",
   "metadata": {},
   "source": [
    "# Proximos Pasos\n",
    "- [ ] Documentar experimentos\n",
    "- [ ] Analizar implementación de hardware\n",
    "- [ ] Experimentos:\n",
    "    - [x] Tiempo de exposición (variable) (tiempo de ingración es lo mismo)\n",
    "    - [ ] ISO (variable) \n",
    "    - [ ] Balance de blancos (fijo)\n",
    "    - [ ] Ganancia en db ()\n",
    "    - [ ] Potencia de la lampara (Variar) 40W o 80W para empezar\n",
    "\n",
    "- [ ] Experimento 1: Variar tiempo de exposición y fijar el resto, con cierta potencia en la lampara (despues variar lampara y despues tiempo de exposicion)\n",
    "    - [ ] Dividir mini experimentos en cad variación de parametros\n",
    "\n",
    "- [ ] Analizar los resultados\n",
    "\n",
    "- [ ] Coming soon: usar filtros\n",
    "\n",
    "- [ ] Apuntes: Fijar lampara y cuerpo difuso en mesa optica \n",
    "\n",
    "- [ ] preguntar si puedo poner un difusor y alejar el setup"
   ]
  },
  {
   "cell_type": "markdown",
   "metadata": {},
   "source": [
    "agregar imagen de la eficiencia de cuantica de la imagen"
   ]
  },
  {
   "cell_type": "code",
   "execution_count": null,
   "metadata": {},
   "outputs": [],
   "source": [
    "# Crea carpetas por cada configuración\n",
    "import os\n",
    "from pathlib import Path\n",
    "import shutil\n",
    "potencia = [40,80,120]\n",
    "array = [-3,-2,-1,0,1,2,3]\n",
    "file  = ['images','json']\n",
    "\n",
    "def create(aux):\n",
    "    if not aux.exists():\n",
    "        aux.mkdir(exist_ok=True)        \n",
    "\n",
    "for tipo in file:\n",
    "    for pot in potencia:\n",
    "        aux = Path(str(tipo)+'/'+str(pot)+'W/')\n",
    "        create(aux)\n",
    "        for brillo in array:\n",
    "            aux = Path(str(tipo)+'/'+str(pot)+'W'+'/brillo '+str(brillo))\n",
    "            create(aux)\n",
    "\n",
    "            for contraste in array:\n",
    "                aux = Path(str(tipo)+'/'+str(pot)+'W'+'/brillo '+str(brillo)+'/contraste '+str(contraste))\n",
    "                create(aux)\n",
    "                \n",
    "                for saturacion in array:\n",
    "                    aux = Path(str(tipo)+'/'+str(pot)+'W'+'/brillo '+str(brillo)+'/contraste '+str(contraste)+'/saturacion '+str(saturacion))\n",
    "                    create(aux)"
   ]
  },
  {
   "cell_type": "code",
   "execution_count": null,
   "metadata": {},
   "outputs": [],
   "source": [
    "# Codigo para ordenar json en carpeetas (son mas de mil fotos)\n",
    "import os\n",
    "import numpy as np\n",
    "import shutil\n",
    "\n",
    "temp = pd.DataFrame()\n",
    "potencia = 40\n",
    "array = [-3,-2,-1,0,1,2,3]\n",
    "brillos = [-3,-2]\n",
    "file_list=[]\n",
    "for brillo in brillos:\n",
    "    for contraste in array:\n",
    "        for saturacion in array:\n",
    "            for data in range(0,40):\n",
    "                json_pattern = os.path.join('A/json/data_'+str(data)+'_brillo_'+str(brillo)+'_contraste_'+str(contraste)+'_saturacion_'+str(saturacion)+'.json')\n",
    "                destino='json/'+str(potencia)+'W'+'/brillo '+str(brillo)+'/contraste '+str(contraste)+'/saturacion '+str(saturacion)+'/'\n",
    "                shutil.copy(json_pattern,str(destino))\n",
    "#data_0_brillo_-3_contraste_1_saturacion_0"
   ]
  },
  {
   "cell_type": "code",
   "execution_count": null,
   "metadata": {},
   "outputs": [],
   "source": [
    "# Codigo para ordenar imagenes en carpeetas (son mas de mil fotos)\n",
    "import os\n",
    "import numpy as np\n",
    "import shutil\n",
    "\n",
    "temp = pd.DataFrame()\n",
    "potencia = 40\n",
    "array = [-3,-2,-1,0,1,2,3]\n",
    "brillos = [-3,-2]\n",
    "file_list=[]\n",
    "for brillo in brillos:\n",
    "    for contraste in array:\n",
    "        for saturacion in array:\n",
    "            for data in range(0,40):\n",
    "                json_pattern = os.path.join('A/images/image_'+str(data)+'_brillo_'+str(brillo)+'_contraste_'+str(contraste)+'_saturacion_'+str(saturacion)+'.bmp')\n",
    "                destino='images/'+str(potencia)+'W'+'/brillo '+str(brillo)+'/contraste '+str(contraste)+'/saturacion '+str(saturacion)+'/'\n",
    "                shutil.copy(json_pattern,str(destino))\n",
    "#data_0_brillo_-3_contraste_1_saturacion_0"
   ]
  }
 ],
 "metadata": {
  "interpreter": {
   "hash": "696f1b3f4ec608302c0ac7d485b61cbe5cb6c2ed50640f9120220e665ff62020"
  },
  "kernelspec": {
   "display_name": "Python 3.9.7 64-bit",
   "name": "python3"
  },
  "language_info": {
   "codemirror_mode": {
    "name": "ipython",
    "version": 3
   },
   "file_extension": ".py",
   "mimetype": "text/x-python",
   "name": "python",
   "nbconvert_exporter": "python",
   "pygments_lexer": "ipython3",
   "version": "3.10.0"
  },
  "orig_nbformat": 4
 },
 "nbformat": 4,
 "nbformat_minor": 2
}
