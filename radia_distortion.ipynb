{
 "cells": [
  {
   "cell_type": "code",
   "execution_count": 90,
   "metadata": {},
   "outputs": [
    {
     "name": "stdout",
     "output_type": "stream",
     "text": [
      "2 1 (3, 30, 0.001)\n",
      "(480, 752, 3)\n",
      "(480, 752, 3)\n",
      "(480, 752, 3)\n",
      "(480, 752, 3)\n",
      "(480, 752, 3)\n",
      "(480, 752, 3)\n",
      "(480, 752, 3)\n",
      "(480, 752, 3)\n",
      "(480, 752, 3)\n",
      "(480, 752, 3)\n",
      "(480, 752, 3)\n",
      "(480, 752, 3)\n",
      "(480, 752, 3)\n",
      "(480, 752, 3)\n",
      "(480, 752, 3)\n",
      "(480, 752, 3)\n",
      "(480, 752, 3)\n",
      "(480, 752, 3)\n",
      "(480, 752, 3)\n",
      "(480, 752, 3)\n"
     ]
    },
    {
     "data": {
      "text/plain": [
       "-1"
      ]
     },
     "execution_count": 90,
     "metadata": {},
     "output_type": "execute_result"
    }
   ],
   "source": [
    "import numpy as np\n",
    "import cv2 as cv\n",
    "import glob\n",
    "# termination criteria\n",
    "criteria = (cv.TERM_CRITERIA_EPS + cv.TERM_CRITERIA_MAX_ITER, 30, 0.001)\n",
    "print(cv.TERM_CRITERIA_EPS,cv.TERM_CRITERIA_MAX_ITER,criteria)\n",
    "a,b=6,9\n",
    "# prepare object points, like (0,0,0), (1,0,0), (2,0,0) ....,(6,5,0)\n",
    "objp = np.zeros((a * b, 3), np.float32)\n",
    "objp[:, :2] = np.mgrid[0:a, 0:b].T.reshape(-1, 2)\n",
    "\n",
    "# Arrays to store object points and image points from all the images.\n",
    "objpoints = [] # 3d point in real world space\n",
    "imgpoints = [] # 2d points in image plane.\n",
    "images = glob.glob('img/images/*.jpg')\n",
    "#images = glob.glob('img/chessboard/patron_1.jpg')\n",
    "for fname in images:\n",
    "    img = cv.imread(fname)\n",
    "    print(img.shape)\n",
    "    gray = cv.cvtColor(img, cv.COLOR_BGR2GRAY)\n",
    "    # Find the chess board corners\n",
    "    ret, corners = cv.findChessboardCorners(img, (a,b), None)\n",
    "    #print(corners)\n",
    "    # If found, add object points, image points (after refining them)\n",
    "    if ret == True:\n",
    "        objpoints.append(objp)\n",
    "        corners2 = cv.cornerSubPix(gray,corners, (a,b), (-1,-1), criteria)\n",
    "        imgpoints.append(corners)\n",
    "        # Draw and display the corners\n",
    "cv.drawChessboardCorners(img, (a,b), corners2, ret)\n",
    "cv.imshow('img '+str(fname), cv.resize(img,(600,400)))\n",
    "cv.waitKey(100)\n",
    "#cv.destroyAllWindows()"
   ]
  },
  {
   "cell_type": "markdown",
   "metadata": {},
   "source": [
    "### Elementos de salida de  cv.calibrateCamera()\n",
    "\n",
    "- ret:\n",
    "- mtx:   Matriz intrínseca de cámara de coma flotante de 3x3 de entrada/salida\n",
    "- dist:  Vector de entrada/salida de coeficientes de distorsión\n",
    "- rvecs: Vector de salida de vectores de rotación\n",
    "- tvecs: Vector de salida de los vectores de traducción estimados para cada vista de patrón, consulte la descripción de parámetros anterior."
   ]
  },
  {
   "cell_type": "code",
   "execution_count": 91,
   "metadata": {},
   "outputs": [
    {
     "name": "stdout",
     "output_type": "stream",
     "text": [
      "[[791.32600033   0.         397.27705801]\n",
      " [  0.         791.93127323 222.52070159]\n",
      " [  0.           0.           1.        ]]\n"
     ]
    }
   ],
   "source": [
    "ret, mtx, dist, rvecs, tvecs = cv.calibrateCamera(objpoints, imgpoints, gray.shape[::-1], None, None)\n",
    "print(mtx)"
   ]
  },
  {
   "cell_type": "code",
   "execution_count": 92,
   "metadata": {},
   "outputs": [
    {
     "name": "stdout",
     "output_type": "stream",
     "text": [
      "480 752\n"
     ]
    }
   ],
   "source": [
    "img = cv.imread('img/images/far/image_0.jpg')\n",
    "#img = cv.imread('img/image_5.jpg')\n",
    "h,  w = img.shape[:2]\n",
    "print(h,w)"
   ]
  },
  {
   "cell_type": "code",
   "execution_count": 93,
   "metadata": {},
   "outputs": [
    {
     "name": "stdout",
     "output_type": "stream",
     "text": [
      "(35, 43, 582, 344)\n"
     ]
    }
   ],
   "source": [
    "newcameramtx, roi = cv.getOptimalNewCameraMatrix(mtx, dist, (w,h), 1, (w,h))\n",
    "print(roi)"
   ]
  },
  {
   "cell_type": "code",
   "execution_count": 94,
   "metadata": {},
   "outputs": [
    {
     "data": {
      "text/plain": [
       "True"
      ]
     },
     "execution_count": 94,
     "metadata": {},
     "output_type": "execute_result"
    }
   ],
   "source": [
    "# undistort\n",
    "dst = cv.undistort(img, mtx, dist, None, newcameramtx)\n",
    "# crop the image\n",
    "x, y, w, h = roi\n",
    "dst = dst[y:y+h, x:x+w]\n",
    "cv.imshow('img '+str(fname), cv.resize(dst,(600,400)))\n",
    "cv.waitKey(100)\n",
    "cv.destroyAllWindows()\n",
    "cv.imwrite('img/calibresult_1.png', dst)"
   ]
  },
  {
   "cell_type": "code",
   "execution_count": 95,
   "metadata": {},
   "outputs": [
    {
     "data": {
      "text/plain": [
       "True"
      ]
     },
     "execution_count": 95,
     "metadata": {},
     "output_type": "execute_result"
    }
   ],
   "source": [
    "# undistort\n",
    "mapx, mapy = cv.initUndistortRectifyMap(mtx, dist, None, newcameramtx, (w,h), 5)\n",
    "dst = cv.remap(img, mapx, mapy, cv.INTER_CUBIC)\n",
    "# crop the image\n",
    "x, y, w, h = roi\n",
    "dst = dst[y:y+h, x:x+w]\n",
    "cv.imshow('img '+str(fname), cv.resize(dst,(600,400)))\n",
    "cv.waitKey(1000)\n",
    "cv.destroyAllWindows()\n",
    "cv.imwrite('img/calibresult_2.png', dst)"
   ]
  },
  {
   "cell_type": "code",
   "execution_count": 96,
   "metadata": {},
   "outputs": [
    {
     "name": "stdout",
     "output_type": "stream",
     "text": [
      "total error: 0.03931520347705344\n"
     ]
    }
   ],
   "source": [
    "mean_error = 0\n",
    "for i in range(len(objpoints)):\n",
    "    imgpoints2, _ = cv.projectPoints(objpoints[i], rvecs[i], tvecs[i], mtx, dist)\n",
    "    error = cv.norm(imgpoints[i], imgpoints2, cv.NORM_L2)/len(imgpoints2)\n",
    "    mean_error += error\n",
    "print( \"total error: {}\".format(mean_error/len(objpoints)) )"
   ]
  }
 ],
 "metadata": {
  "interpreter": {
   "hash": "c63d8c7d738c2960218a10995aedf0a7f67a49a231e71037adf0440953cdb45b"
  },
  "kernelspec": {
   "display_name": "Python 3.10.0 64-bit",
   "language": "python",
   "name": "python3"
  },
  "language_info": {
   "codemirror_mode": {
    "name": "ipython",
    "version": 3
   },
   "file_extension": ".py",
   "mimetype": "text/x-python",
   "name": "python",
   "nbconvert_exporter": "python",
   "pygments_lexer": "ipython3",
   "version": "3.10.0"
  },
  "orig_nbformat": 4
 },
 "nbformat": 4,
 "nbformat_minor": 2
}
