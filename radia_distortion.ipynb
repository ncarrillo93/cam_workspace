{
 "cells": [
  {
   "cell_type": "code",
   "execution_count": 33,
   "metadata": {},
   "outputs": [
    {
     "name": "stdout",
     "output_type": "stream",
     "text": [
      "2 1 (3, 10, 0.001)\n"
     ]
    },
    {
     "data": {
      "text/plain": [
       "-1"
      ]
     },
     "execution_count": 33,
     "metadata": {},
     "output_type": "execute_result"
    }
   ],
   "source": [
    "import numpy as np\n",
    "import cv2 as cv\n",
    "import glob\n",
    "# termination criteria\n",
    "criteria = (cv.TERM_CRITERIA_EPS + cv.TERM_CRITERIA_MAX_ITER, 10, 0.001)\n",
    "print(cv.TERM_CRITERIA_EPS,cv.TERM_CRITERIA_MAX_ITER,criteria)\n",
    "a,b=9,6\n",
    "# prepare object points, like (0,0,0), (1,0,0), (2,0,0) ....,(6,5,0)\n",
    "objp = np.zeros((a * b, 3), np.float32)\n",
    "objp[:, :2] = np.mgrid[0:a, 0:b].T.reshape(-1, 2)\n",
    "\n",
    "# Arrays to store object points and image points from all the images.\n",
    "objpoints = [] # 3d point in real world space\n",
    "imgpoints = [] # 2d points in image plane.\n",
    "images = glob.glob('img/images/*.jpg')\n",
    "for fname in images:\n",
    "    img = cv.imread(fname)\n",
    "    gray = cv.cvtColor(img, cv.COLOR_BGR2GRAY)\n",
    "    # Find the chess board corners\n",
    "    ret, corners = cv.findChessboardCorners(img, (a,b), None)\n",
    "    #print(corners)\n",
    "    # If found, add object points, image points (after refining them)\n",
    "    if ret == True:\n",
    "        objpoints.append(objp)\n",
    "        corners2 = cv.cornerSubPix(gray,corners, (a,b), (-1,-1), criteria)\n",
    "        imgpoints.append(corners)\n",
    "        # Draw and display the corners\n",
    "cv.drawChessboardCorners(img, (a,b), corners2, ret)\n",
    "cv.imshow('img '+str(fname), cv.resize(img,(600,400)))\n",
    "cv.waitKey(100)\n",
    "#cv.destroyAllWindows()"
   ]
  },
  {
   "cell_type": "markdown",
   "metadata": {},
   "source": [
    "´´´python\n",
    "    cv.calibrateCamera()\n",
    "´´´"
   ]
  },
  {
   "cell_type": "code",
   "execution_count": 42,
   "metadata": {},
   "outputs": [
    {
     "name": "stdout",
     "output_type": "stream",
     "text": [
      "0.28953780687585606\n"
     ]
    }
   ],
   "source": [
    "ret, mtx, dist, rvecs, tvecs = cv.calibrateCamera(objpoints, imgpoints, gray.shape[::-1], None, None)\n",
    "print(ret)"
   ]
  },
  {
   "cell_type": "code",
   "execution_count": 43,
   "metadata": {},
   "outputs": [
    {
     "name": "stdout",
     "output_type": "stream",
     "text": [
      "[[802.32341707   0.         398.06345055]\n",
      " [  0.         803.34978321 222.83348372]\n",
      " [  0.           0.           1.        ]]\n"
     ]
    }
   ],
   "source": [
    "print(mtx)"
   ]
  },
  {
   "cell_type": "code",
   "execution_count": 44,
   "metadata": {},
   "outputs": [
    {
     "name": "stdout",
     "output_type": "stream",
     "text": [
      "[[ -1.13640344   3.4231306    0.01268819  -0.01488864 -11.1041132 ]]\n"
     ]
    }
   ],
   "source": [
    "print(dist)"
   ]
  },
  {
   "cell_type": "code",
   "execution_count": 45,
   "metadata": {},
   "outputs": [
    {
     "name": "stdout",
     "output_type": "stream",
     "text": [
      "(array([[ 0.12267171],\n",
      "       [-0.04669564],\n",
      "       [-0.00990506]]), array([[ 0.12124641],\n",
      "       [-0.04621453],\n",
      "       [-0.01057043]]), array([[ 0.12481741],\n",
      "       [-0.04957144],\n",
      "       [-0.01033264]]), array([[ 0.12274446],\n",
      "       [-0.04889983],\n",
      "       [-0.01107812]]), array([[ 0.12309323],\n",
      "       [-0.04872764],\n",
      "       [-0.01097101]]), array([[ 0.12209985],\n",
      "       [-0.04864226],\n",
      "       [-0.00987794]]), array([[ 0.12304071],\n",
      "       [-0.04721454],\n",
      "       [-0.00894487]]), array([[ 0.12323047],\n",
      "       [-0.0471175 ],\n",
      "       [-0.00695773]]), array([[ 0.12412742],\n",
      "       [-0.04649827],\n",
      "       [-0.00605563]]), array([[ 0.12614749],\n",
      "       [-0.04631049],\n",
      "       [-0.00674124]]), array([[ 0.12734901],\n",
      "       [-0.04621886],\n",
      "       [-0.00743291]]), array([[ 0.1266534 ],\n",
      "       [-0.04589959],\n",
      "       [-0.0067713 ]]), array([[ 0.12226669],\n",
      "       [-0.0475654 ],\n",
      "       [-0.0097812 ]]), array([[ 0.12223756],\n",
      "       [-0.04876689],\n",
      "       [-0.00934165]]), array([[ 0.12107872],\n",
      "       [-0.04842557],\n",
      "       [-0.00874636]]), array([[ 0.12417146],\n",
      "       [-0.05015676],\n",
      "       [-0.00890859]]), array([[ 0.12611844],\n",
      "       [-0.05069561],\n",
      "       [-0.00894218]]), array([[ 0.12544808],\n",
      "       [-0.04935832],\n",
      "       [-0.00859835]]), array([[ 0.12401345],\n",
      "       [-0.04949813],\n",
      "       [-0.00908919]]), array([[ 0.12576098],\n",
      "       [-0.04934443],\n",
      "       [-0.00974323]]))\n"
     ]
    }
   ],
   "source": [
    "print(rvecs)"
   ]
  },
  {
   "cell_type": "code",
   "execution_count": 46,
   "metadata": {},
   "outputs": [
    {
     "name": "stdout",
     "output_type": "stream",
     "text": [
      "(array([[-4.87557838],\n",
      "       [-2.00485797],\n",
      "       [16.00660884]]), array([[-4.88948401],\n",
      "       [-1.99449957],\n",
      "       [16.03761442]]), array([[-4.92398263],\n",
      "       [-2.03540672],\n",
      "       [15.88328896]]), array([[-4.93617683],\n",
      "       [-2.01733968],\n",
      "       [15.92797273]]), array([[-4.9173663 ],\n",
      "       [-2.0176874 ],\n",
      "       [15.94751446]]), array([[-4.8794704 ],\n",
      "       [-2.01531164],\n",
      "       [15.94784212]]), array([[-4.84286816],\n",
      "       [-2.019281  ],\n",
      "       [15.93530617]]), array([[-4.78627527],\n",
      "       [-2.02518883],\n",
      "       [15.91352178]]), array([[-4.74643516],\n",
      "       [-2.03228747],\n",
      "       [15.88036184]]), array([[-4.73947705],\n",
      "       [-2.06269886],\n",
      "       [15.82528998]]), array([[-4.73604011],\n",
      "       [-2.07302186],\n",
      "       [15.80483624]]), array([[-4.72059934],\n",
      "       [-2.0544958 ],\n",
      "       [15.82757803]]), array([[-4.88492029],\n",
      "       [-1.99724808],\n",
      "       [16.03364889]]), array([[-4.88031837],\n",
      "       [-1.99551425],\n",
      "       [16.02602547]]), array([[-4.8674216 ],\n",
      "       [-1.99612727],\n",
      "       [16.01718197]]), array([[-4.87413649],\n",
      "       [-2.02781659],\n",
      "       [15.9267448 ]]), array([[-4.87998173],\n",
      "       [-2.04902003],\n",
      "       [15.87134856]]), array([[-4.87579624],\n",
      "       [-2.04315707],\n",
      "       [15.86827826]]), array([[-4.88713732],\n",
      "       [-2.03115897],\n",
      "       [15.87358673]]), array([[-4.90799154],\n",
      "       [-2.04106655],\n",
      "       [15.86322276]]))\n"
     ]
    }
   ],
   "source": [
    "print(tvecs)"
   ]
  },
  {
   "cell_type": "code",
   "execution_count": 35,
   "metadata": {},
   "outputs": [],
   "source": [
    "img = cv.imread('img/chessboard/patron_1.jpg')\n",
    "h,  w = img.shape[:2]\n",
    "newcameramtx, roi = cv.getOptimalNewCameraMatrix(mtx, dist, (w,h), 1, (w,h))"
   ]
  },
  {
   "cell_type": "code",
   "execution_count": 36,
   "metadata": {},
   "outputs": [
    {
     "data": {
      "text/plain": [
       "True"
      ]
     },
     "execution_count": 36,
     "metadata": {},
     "output_type": "execute_result"
    }
   ],
   "source": [
    "# undistort\n",
    "dst = cv.undistort(img, mtx, dist, None, newcameramtx)\n",
    "# crop the image\n",
    "x, y, w, h = roi\n",
    "#dst = dst[y:y+h, x:x+w]\n",
    "cv.imshow('img '+str(fname), cv.resize(dst,(600,400)))\n",
    "cv.waitKey(1000)\n",
    "cv.destroyAllWindows()\n",
    "cv.imwrite('img/calibresult.png', dst)"
   ]
  },
  {
   "cell_type": "code",
   "execution_count": 37,
   "metadata": {},
   "outputs": [
    {
     "data": {
      "text/plain": [
       "True"
      ]
     },
     "execution_count": 37,
     "metadata": {},
     "output_type": "execute_result"
    }
   ],
   "source": [
    "# undistort\n",
    "mapx, mapy = cv.initUndistortRectifyMap(mtx, dist, None, newcameramtx, (w,h), 5)\n",
    "dst = cv.remap(img, mapx, mapy, cv.INTER_LINEAR)\n",
    "# crop the image\n",
    "x, y, w, h = roi\n",
    "#dst = dst[y:y+h, x:x+w]\n",
    "cv.imshow('img '+str(fname), cv.resize(dst,(600,400)))\n",
    "cv.waitKey(1000)\n",
    "cv.destroyAllWindows()\n",
    "cv.imwrite('img/calibresult.png', dst)"
   ]
  },
  {
   "cell_type": "code",
   "execution_count": 38,
   "metadata": {},
   "outputs": [
    {
     "name": "stdout",
     "output_type": "stream",
     "text": [
      "total error: 0.039389280098404776\n"
     ]
    }
   ],
   "source": [
    "mean_error = 0\n",
    "for i in range(len(objpoints)):\n",
    "    imgpoints2, _ = cv.projectPoints(objpoints[i], rvecs[i], tvecs[i], mtx, dist)\n",
    "    error = cv.norm(imgpoints[i], imgpoints2, cv.NORM_L2)/len(imgpoints2)\n",
    "    mean_error += error\n",
    "print( \"total error: {}\".format(mean_error/len(objpoints)) )"
   ]
  }
 ],
 "metadata": {
  "interpreter": {
   "hash": "c63d8c7d738c2960218a10995aedf0a7f67a49a231e71037adf0440953cdb45b"
  },
  "kernelspec": {
   "display_name": "Python 3.10.0 64-bit",
   "language": "python",
   "name": "python3"
  },
  "language_info": {
   "codemirror_mode": {
    "name": "ipython",
    "version": 3
   },
   "file_extension": ".py",
   "mimetype": "text/x-python",
   "name": "python",
   "nbconvert_exporter": "python",
   "pygments_lexer": "ipython3",
   "version": "3.10.0"
  },
  "orig_nbformat": 4
 },
 "nbformat": 4,
 "nbformat_minor": 2
}
