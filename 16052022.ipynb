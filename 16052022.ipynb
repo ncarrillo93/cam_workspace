{
 "cells": [
  {
   "cell_type": "markdown",
   "metadata": {},
   "source": [
    "# Procesamiento de imagenes para la recolección de coordenadas de arucos\n",
    "\n",
    "Antes de comenzar es pertinente definir que es un ArUco. Segun [Docs OpenCV][docs]\n",
    " \n",
    " [docs]: https://docs.opencv.org/4.x/d5/dae/tutorial_aruco_detection.html\n",
    "\n",
    "- \"Los ArUcos son marcadores cuadrados compuestos por un borde negro ancho y una matriz binaria interna que determina su identificador\"\n",
    "\n",
    "Para realizar el desarrollo se eligio la siguiente imagen que contiene seis arucos en diferentes posiciones\n",
    "\n",
    "\n",
    "<img src=\"img/singlemarkerssource.png\" alt=\"drawing\" width=\"400\"/>"
   ]
  },
  {
   "cell_type": "markdown",
   "metadata": {},
   "source": [
    "Insertar librerias"
   ]
  },
  {
   "cell_type": "code",
   "execution_count": 3,
   "metadata": {},
   "outputs": [],
   "source": [
    "from tkinter import N\n",
    "import cv2\n",
    "import cv2.aruco as aruco\n",
    "import numpy as np"
   ]
  },
  {
   "cell_type": "code",
   "execution_count": 9,
   "metadata": {},
   "outputs": [],
   "source": [
    "class Corner:\n",
    "    x=0\n",
    "    y=0\n",
    "    def __init__(self,x,y):\n",
    "        self.x=x\n",
    "        self.y=y\n",
    "class Tag:\n",
    "    corner1=None\n",
    "    corner2=None\n",
    "    corner3=None\n",
    "    corner4=None\n",
    "    def __init__(self,corner1,corner2,corner3,corner4):\n",
    "        self.corner1=corner1\n",
    "        self.corner2=corner2\n",
    "        self.corner3=corner3\n",
    "        self.corner4=corner4"
   ]
  },
  {
   "cell_type": "code",
   "execution_count": 10,
   "metadata": {},
   "outputs": [],
   "source": [
    "def findaruco(img,marker_size=6,total_markers=250,draw=True):\n",
    "    gray=cv2.cvtColor(img,cv2.COLOR_BGR2GRAY)\n",
    "    key =getattr(aruco,f'DICT_{marker_size}X{marker_size}_{total_markers}')\n",
    "    arucoDict=aruco.Dictionary_get(key)\n",
    "    arucoParam=aruco.DetectorParameters_create()\n",
    "    bbox,ids,_=aruco.detectMarkers(gray,arucoDict,parameters=arucoParam)    \n",
    "    if draw:\n",
    "        aruco.drawDetectedMarkers(img,bbox)\n",
    "    return bbox,ids\n",
    "\n",
    "def coords(bbox):\n",
    "    tags_array=[]\n",
    "    aux=[]\n",
    "    corner_aux=Corner(0,0)\n",
    "    for i in range(0,len(bbox)):\n",
    "        for j in range(0,4):\n",
    "            corner_aux.x=bbox[i][0][j][0]\n",
    "            corner_aux.y=bbox[i][0][j][1]\n",
    "            aux.append(corner_aux)\n",
    "        tag_aux=Tag(aux[0],aux[1],aux[2],aux[3])\n",
    "        tags_array.append(tag_aux)\n",
    "    return tags_array"
   ]
  },
  {
   "cell_type": "code",
   "execution_count": 8,
   "metadata": {},
   "outputs": [],
   "source": [
    "img = cv2.imread('img/singlemarkerssource.png')\n",
    "img = cv2.resize(img,(752,480))\n",
    "bbox,ids = findaruco(img)\n",
    "tags_array=coords(bbox)"
   ]
  }
 ],
 "metadata": {
  "interpreter": {
   "hash": "c63d8c7d738c2960218a10995aedf0a7f67a49a231e71037adf0440953cdb45b"
  },
  "kernelspec": {
   "display_name": "Python 3.10.0 64-bit",
   "language": "python",
   "name": "python3"
  },
  "language_info": {
   "codemirror_mode": {
    "name": "ipython",
    "version": 3
   },
   "file_extension": ".py",
   "mimetype": "text/x-python",
   "name": "python",
   "nbconvert_exporter": "python",
   "pygments_lexer": "ipython3",
   "version": "3.10.0"
  },
  "orig_nbformat": 4
 },
 "nbformat": 4,
 "nbformat_minor": 2
}
