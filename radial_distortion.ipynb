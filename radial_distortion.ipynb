{
 "cells": [
  {
   "cell_type": "markdown",
   "metadata": {},
   "source": [
    "### Elementos de salida de  cv.calibrateCamera()\n",
    "\n",
    "- ret:\n",
    "- mtx:   Matriz intrínseca de cámara de coma flotante de 3x3 de entrada/salida\n",
    "- dist:  Vector de entrada/salida de coeficientes de distorsión\n",
    "- rvecs: Vector de salida de vectores de rotación\n",
    "- tvecs: Vector de salida de los vectores de traducción estimados para cada vista de patrón, consulte la descripción de parámetros anterior."
   ]
  },
  {
   "cell_type": "code",
   "execution_count": 134,
   "metadata": {},
   "outputs": [],
   "source": [
    "import numpy as np\n",
    "import cv2 as cv\n",
    "import glob\n",
    "\n",
    "class Parameters:\n",
    "    ret   = None\n",
    "    mtx   = None\n",
    "    dist  = None\n",
    "    rvecs = None\n",
    "    tvecs = None\n",
    "    def __init__(self,ret, mtx, dist, rvecs, tvecs):\n",
    "        self.ret   = ret\n",
    "        self.mtx   = mtx\n",
    "        self.dist  = dist\n",
    "        self.rvecs = rvecs\n",
    "        self.tvecs = tvecs"
   ]
  },
  {
   "cell_type": "code",
   "execution_count": 138,
   "metadata": {},
   "outputs": [],
   "source": [
    "\n",
    "def calibrate(path_images,extension_images,size_chessboard): #'img/images/far/ path example\n",
    "    # termination criteria\n",
    "    criteria = (cv.TERM_CRITERIA_EPS + cv.TERM_CRITERIA_MAX_ITER, int(size_chessboard), 0.001)\n",
    "    a,b=6,9\n",
    "    # prepare object points, like (0,0,0), (1,0,0), (2,0,0) ....,(6,5,0)\n",
    "    objp = np.zeros((a*b,3), np.float32)\n",
    "    objp[:,:2] = np.mgrid[0:a,0:b].T.reshape(-1,2)\n",
    "    # Arrays to store object points and image points from all the images.\n",
    "    objpoints = [] # 3d point in real world space\n",
    "    imgpoints = [] # 2d points in image plane.\n",
    "    images = glob.glob(path_images+'*.'+extension_images)\n",
    "    #print(images)\n",
    "    for fname in images:\n",
    "        img = cv.imread(fname)\n",
    "        gray = cv.cvtColor(img, cv.COLOR_BGR2GRAY)\n",
    "        # Find the chess board corners\n",
    "        ret, corners = cv.findChessboardCorners(img, (a,b), None)\n",
    "        # If found, add object points, image points (after refining them)\n",
    "        if ret == True:\n",
    "            objpoints.append(objp)\n",
    "            corners = cv.cornerSubPix(gray,corners, (a,b), (-1,-1), criteria)\n",
    "            imgpoints.append(corners)\n",
    "            #cv.drawChessboardCorners(img, (a,b), corners2, ret)\n",
    "            #cv.imshow('img '+str(fname), cv.resize(img,(600,400)))\n",
    "            #cv.waitKey(100)\n",
    "        cv.destroyAllWindows()\n",
    "    ret, mtx, dist, rvecs, tvecs = cv.calibrateCamera(objpoints, imgpoints, gray.shape[::-1], None, None)\n",
    "    #parameters=Parameters(ret, mtx, dist, rvecs, tvecs)\n",
    "    #return parameters\n",
    "    return Parameters(ret, mtx, dist, rvecs, tvecs)"
   ]
  },
  {
   "cell_type": "code",
   "execution_count": 40,
   "metadata": {},
   "outputs": [],
   "source": [
    "def radial_correction(path_images,extension_images,parameters):\n",
    "    images = glob.glob(path_images+'*.'+extension_images)\n",
    "    for fname in images:\n",
    "        img = cv.imread(fname)\n",
    "        h,  w = img.shape[:2]\n",
    "        newcameramtx, roi = cv.getOptimalNewCameraMatrix(parameters.mtx, parameters.dist, (w,h), 1, (w,h))\n",
    "        # undistort\n",
    "        dst = cv.undistort(img, parameters.mtx, parameters.dist, None, newcameramtx)\n",
    "        # crop the image\n",
    "        x, y, w, h = roi\n",
    "        dst = dst[y:y+h, x:x+w]\n",
    "        cv.imwrite(fname, dst)"
   ]
  },
  {
   "cell_type": "code",
   "execution_count": 41,
   "metadata": {},
   "outputs": [],
   "source": [
    "def radial_correction_beta(path_images,extension_images,parameters):\n",
    "    images = glob.glob(path_images+'*.'+extension_images)\n",
    "    for fname in images:\n",
    "        img = cv.imread(fname)\n",
    "        h,  w = img.shape[:2]\n",
    "        newcameramtx, roi = cv.getOptimalNewCameraMatrix(parameters.mtx, parameters.dist, (w,h), 1, (w,h))\n",
    "        # undistort\n",
    "        mapx, mapy = cv.initUndistortRectifyMap(parameters.mtx, parameters.dist, None, newcameramtx, (w,h), 5)\n",
    "        dst = cv.remap(img, mapx, mapy, cv.INTER_LINEAR)\n",
    "        # crop the image\n",
    "        x, y, w, h = roi\n",
    "        dst = dst[y:y+h, x:x+w]\n",
    "        cv.imwrite(fname, dst)"
   ]
  },
  {
   "cell_type": "markdown",
   "metadata": {},
   "source": [
    "# Test"
   ]
  },
  {
   "cell_type": "code",
   "execution_count": 141,
   "metadata": {},
   "outputs": [
    {
     "name": "stdout",
     "output_type": "stream",
     "text": [
      "[[791.32600033   0.         397.27705801]\n",
      " [  0.         791.93127323 222.52070159]\n",
      " [  0.           0.           1.        ]]\n"
     ]
    }
   ],
   "source": [
    "path='img/images/'\n",
    "extension='jpg'\n",
    "\n",
    "parameters=calibrate(path,extension,30)\n",
    "print(parameters.mtx)\n"
   ]
  },
  {
   "cell_type": "code",
   "execution_count": 142,
   "metadata": {},
   "outputs": [],
   "source": [
    "radial_correction(path,extension,parameters)"
   ]
  },
  {
   "cell_type": "code",
   "execution_count": null,
   "metadata": {},
   "outputs": [],
   "source": [
    "radial_correction_beta(path,extension,parameters)"
   ]
  }
 ],
 "metadata": {
  "interpreter": {
   "hash": "c63d8c7d738c2960218a10995aedf0a7f67a49a231e71037adf0440953cdb45b"
  },
  "kernelspec": {
   "display_name": "Python 3.10.0 64-bit",
   "language": "python",
   "name": "python3"
  },
  "language_info": {
   "codemirror_mode": {
    "name": "ipython",
    "version": 3
   },
   "file_extension": ".py",
   "mimetype": "text/x-python",
   "name": "python",
   "nbconvert_exporter": "python",
   "pygments_lexer": "ipython3",
   "version": "3.10.0"
  },
  "orig_nbformat": 4
 },
 "nbformat": 4,
 "nbformat_minor": 2
}
