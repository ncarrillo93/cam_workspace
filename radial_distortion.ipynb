{
 "cells": [
  {
   "cell_type": "markdown",
   "metadata": {},
   "source": [
    "### Elementos de salida de  cv.calibrateCamera()\n",
    "\n",
    "- ret:\n",
    "- mtx:   Matriz intrínseca de cámara de coma flotante de 3x3 de entrada/salida\n",
    "- dist:  Vector de entrada/salida de coeficientes de distorsión\n",
    "- rvecs: Vector de salida de vectores de rotación\n",
    "- tvecs: Vector de salida de los vectores de traducción estimados para cada vista de patrón, consulte la descripción de parámetros anterior."
   ]
  },
  {
   "cell_type": "code",
   "execution_count": 21,
   "metadata": {},
   "outputs": [],
   "source": [
    "import numpy as np\n",
    "import cv2 as cv\n",
    "import glob\n",
    "\n",
    "class Parameters:\n",
    "    ret   = None\n",
    "    mtx   = None\n",
    "    dist  = None\n",
    "    rvecs = None\n",
    "    tvecs = None\n",
    "    def __init__(self,ret, mtx, dist, rvecs, tvecs):\n",
    "        self.ret   = ret\n",
    "        self.mtx   = mtx\n",
    "        self.dist  = dist\n",
    "        self.rvecs = rvecs\n",
    "        self.tvecs = tvecs"
   ]
  },
  {
   "cell_type": "code",
   "execution_count": 22,
   "metadata": {},
   "outputs": [],
   "source": [
    "\n",
    "def calibrate(path_image,size_chessboard):\n",
    "    # termination criteria\n",
    "    criteria = (cv.TERM_CRITERIA_EPS + cv.TERM_CRITERIA_MAX_ITER, int(size_chessboard), 0.001)\n",
    "    a,b=9,6\n",
    "    # prepare object points, like (0,0,0), (1,0,0), (2,0,0) ....,(6,5,0)\n",
    "    objp = np.zeros((a*b,3), np.float32)\n",
    "    objp[:,:2] = np.mgrid[0:a,0:b].T.reshape(-1,2)\n",
    "    # Arrays to store object points and image points from all the images.\n",
    "    objpoints = [] # 3d point in real world space\n",
    "    imgpoints = [] # 2d points in image plane.\n",
    "    img = cv.imread(path_image)\n",
    "    gray = cv.cvtColor(img, cv.COLOR_BGR2GRAY)\n",
    "    # Find the chess board corners\n",
    "    ret, corners = cv.findChessboardCorners(img, (a,b), None)\n",
    "    # If found, add object points, image points (after refining them)\n",
    "    if ret == True:\n",
    "        objpoints.append(objp)\n",
    "        corners = cv.cornerSubPix(gray,corners, (a,b), (-1,-1), criteria)\n",
    "        imgpoints.append(corners)\n",
    "    ret, mtx, dist, rvecs, tvecs = cv.calibrateCamera(objpoints, imgpoints, gray.shape[::-1], None, None)\n",
    "    return Parameters(ret, mtx, dist, rvecs, tvecs)"
   ]
  },
  {
   "cell_type": "code",
   "execution_count": 23,
   "metadata": {},
   "outputs": [],
   "source": [
    "def radial_correction(path,path_out,parameters):\n",
    "    img = cv.imread(path)\n",
    "    h,  w = img.shape[:2]\n",
    "    newcameramtx, roi = cv.getOptimalNewCameraMatrix(parameters.mtx, parameters.dist, (w,h), 1, (w,h))\n",
    "    print(roi)\n",
    "    # undistort\n",
    "    dst = cv.undistort(img, parameters.mtx, parameters.dist, None, newcameramtx)\n",
    "    # crop the image\n",
    "    x, y, w, h = roi\n",
    "    #x,y=0,0\n",
    "    dst = dst[y:y+h, x:x+w]\n",
    "    cv.imwrite(path_out, dst)"
   ]
  },
  {
   "cell_type": "code",
   "execution_count": 24,
   "metadata": {},
   "outputs": [],
   "source": [
    "def radial_correction_beta(path,path_out,parameters):\n",
    "    img = cv.imread(path)\n",
    "    h,  w = img.shape[:2]\n",
    "    newcameramtx, roi = cv.getOptimalNewCameraMatrix(parameters.mtx, parameters.dist, (w,h), 1, (w,h))\n",
    "    print(roi)\n",
    "    # undistort\n",
    "    mapx, mapy = cv.initUndistortRectifyMap(parameters.mtx, parameters.dist, None, newcameramtx, (w,h), 5)\n",
    "    dst = cv.remap(img, mapx, mapy, cv.INTER_LINEAR)\n",
    "    # crop the image\n",
    "    x, y, w, h = roi\n",
    "    dst = dst[y:y+h, x:x+w]\n",
    "    cv.imwrite(path_out, dst)"
   ]
  },
  {
   "cell_type": "markdown",
   "metadata": {},
   "source": [
    "# Test"
   ]
  },
  {
   "cell_type": "code",
   "execution_count": 25,
   "metadata": {},
   "outputs": [
    {
     "name": "stdout",
     "output_type": "stream",
     "text": [
      "[[832.94274257   0.         402.50332051]\n",
      " [  0.         834.8724402  223.29354526]\n",
      " [  0.           0.           1.        ]]\n"
     ]
    }
   ],
   "source": [
    "path='img/images/image_0.jpg'\n",
    "parameters=calibrate(path,10)\n",
    "print(parameters.mtx)\n"
   ]
  },
  {
   "cell_type": "code",
   "execution_count": 26,
   "metadata": {},
   "outputs": [
    {
     "name": "stdout",
     "output_type": "stream",
     "text": [
      "(136, 38, 402, 274)\n"
     ]
    }
   ],
   "source": [
    "path='img/images/far/image_0.jpg'\n",
    "path_out='img/calibresult_1.png'\n",
    "radial_correction(path,path_out,parameters)"
   ]
  },
  {
   "cell_type": "code",
   "execution_count": 27,
   "metadata": {},
   "outputs": [
    {
     "name": "stdout",
     "output_type": "stream",
     "text": [
      "(136, 38, 402, 274)\n"
     ]
    }
   ],
   "source": [
    "path='img/images/far/image_0.jpg'\n",
    "path_out='img/calibresult_2.png'\n",
    "radial_correction_beta(path,path_out,parameters)"
   ]
  }
 ],
 "metadata": {
  "kernelspec": {
   "display_name": "Python 3.10.0 64-bit",
   "language": "python",
   "name": "python3"
  },
  "language_info": {
   "codemirror_mode": {
    "name": "ipython",
    "version": 3
   },
   "file_extension": ".py",
   "mimetype": "text/x-python",
   "name": "python",
   "nbconvert_exporter": "python",
   "pygments_lexer": "ipython3",
   "version": "3.10.0"
  },
  "orig_nbformat": 4,
  "vscode": {
   "interpreter": {
    "hash": "c63d8c7d738c2960218a10995aedf0a7f67a49a231e71037adf0440953cdb45b"
   }
  }
 },
 "nbformat": 4,
 "nbformat_minor": 2
}
