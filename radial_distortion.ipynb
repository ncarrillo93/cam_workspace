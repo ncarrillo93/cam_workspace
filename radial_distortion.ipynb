{
 "cells": [
  {
   "cell_type": "markdown",
   "metadata": {},
   "source": [
    "### Elementos de salida de  cv.calibrateCamera()\n",
    "\n",
    "- ret:\n",
    "- mtx:   Matriz intrínseca de cámara de coma flotante de 3x3 de entrada/salida\n",
    "- dist:  Vector de entrada/salida de coeficientes de distorsión\n",
    "- rvecs: Vector de salida de vectores de rotación\n",
    "- tvecs: Vector de salida de los vectores de traducción estimados para cada vista de patrón, consulte la descripción de parámetros anterior."
   ]
  },
  {
   "cell_type": "code",
<<<<<<< HEAD
   "execution_count": 134,
=======
   "execution_count": 74,
>>>>>>> b1dfc7e94ae5aaea4d537a56a649ff424c0a1bef
   "metadata": {},
   "outputs": [],
   "source": [
    "import numpy as np\n",
    "import cv2 as cv\n",
    "import glob\n",
    "\n",
    "class Parameters:\n",
    "    ret   = None\n",
    "    mtx   = None\n",
    "    dist  = None\n",
    "    rvecs = None\n",
    "    tvecs = None\n",
    "    def __init__(self,ret, mtx, dist, rvecs, tvecs):\n",
    "        self.ret   = ret\n",
    "        self.mtx   = mtx\n",
    "        self.dist  = dist\n",
    "        self.rvecs = rvecs\n",
    "        self.tvecs = tvecs"
   ]
  },
  {
   "cell_type": "code",
<<<<<<< HEAD
   "execution_count": 138,
=======
   "execution_count": 75,
>>>>>>> b1dfc7e94ae5aaea4d537a56a649ff424c0a1bef
   "metadata": {},
   "outputs": [],
   "source": [
    "\n",
    "def calibrate(path_images,extension_images,size_chessboard): #'img/images/far/ path example\n",
    "    # termination criteria\n",
    "    criteria = (cv.TERM_CRITERIA_EPS + cv.TERM_CRITERIA_MAX_ITER, int(size_chessboard), 0.001)\n",
    "    a,b=6,9\n",
    "    # prepare object points, like (0,0,0), (1,0,0), (2,0,0) ....,(6,5,0)\n",
    "    objp = np.zeros((a*b,3), np.float32)\n",
    "    objp[:,:2] = np.mgrid[0:a,0:b].T.reshape(-1,2)\n",
    "    # Arrays to store object points and image points from all the images.\n",
    "    objpoints = [] # 3d point in real world space\n",
    "    imgpoints = [] # 2d points in image plane.\n",
    "    images = glob.glob(path_images+'*.'+extension_images)\n",
<<<<<<< HEAD
    "    #print(images)\n",
=======
    "    print(path_images+'*.'+extension_images)\n",
>>>>>>> b1dfc7e94ae5aaea4d537a56a649ff424c0a1bef
    "    for fname in images:\n",
    "        img = cv.imread(fname)\n",
    "        gray = cv.cvtColor(img, cv.COLOR_BGR2GRAY)\n",
    "        # Find the chess board corners\n",
    "        ret, corners = cv.findChessboardCorners(img, (a,b), None)\n",
    "        # If found, add object points, image points (after refining them)\n",
    "        if ret == True:\n",
    "            objpoints.append(objp)\n",
    "            corners = cv.cornerSubPix(gray,corners, (a,b), (-1,-1), criteria)\n",
    "            imgpoints.append(corners)\n",
    "            #cv.drawChessboardCorners(img, (a,b), corners2, ret)\n",
    "            #cv.imshow('img '+str(fname), cv.resize(img,(600,400)))\n",
    "            #cv.waitKey(100)\n",
    "        cv.destroyAllWindows()\n",
    "    ret, mtx, dist, rvecs, tvecs = cv.calibrateCamera(objpoints, imgpoints, gray.shape[::-1], None, None)\n",
<<<<<<< HEAD
    "    #parameters=Parameters(ret, mtx, dist, rvecs, tvecs)\n",
    "    #return parameters\n",
=======
>>>>>>> b1dfc7e94ae5aaea4d537a56a649ff424c0a1bef
    "    return Parameters(ret, mtx, dist, rvecs, tvecs)"
   ]
  },
  {
   "cell_type": "code",
<<<<<<< HEAD
   "execution_count": 40,
=======
   "execution_count": 76,
   "metadata": {},
   "outputs": [
    {
     "name": "stdout",
     "output_type": "stream",
     "text": [
      "img/images/far/*.jpg\n"
     ]
    },
    {
     "ename": "error",
     "evalue": "OpenCV(4.5.5) D:\\a\\opencv-python\\opencv-python\\opencv\\modules\\calib3d\\src\\calibration.cpp:3358: error: (-2:Unspecified error) in function 'void __cdecl cv::collectCalibrationData(const class cv::_InputArray &,const class cv::_InputArray &,const class cv::_InputArray &,int,class cv::Mat &,class cv::Mat &,class cv::Mat *,class cv::Mat &)'\n> Number of object and image points must be equal (expected: 'numberOfObjectPoints == numberOfImagePoints'), where\n>     'numberOfObjectPoints' is 42\n> must be equal to\n>     'numberOfImagePoints' is 54\n",
     "output_type": "error",
     "traceback": [
      "\u001b[1;31m---------------------------------------------------------------------------\u001b[0m",
      "\u001b[1;31merror\u001b[0m                                     Traceback (most recent call last)",
      "\u001b[1;32m~\\AppData\\Local\\Temp/ipykernel_15452/3899132686.py\u001b[0m in \u001b[0;36m<module>\u001b[1;34m\u001b[0m\n\u001b[0;32m      1\u001b[0m \u001b[0mpath\u001b[0m\u001b[1;33m=\u001b[0m\u001b[1;34m'img/images/far/'\u001b[0m\u001b[1;33m\u001b[0m\u001b[1;33m\u001b[0m\u001b[0m\n\u001b[0;32m      2\u001b[0m \u001b[0mextension\u001b[0m\u001b[1;33m=\u001b[0m\u001b[1;34m'jpg'\u001b[0m\u001b[1;33m\u001b[0m\u001b[1;33m\u001b[0m\u001b[0m\n\u001b[1;32m----> 3\u001b[1;33m \u001b[0mprint\u001b[0m\u001b[1;33m(\u001b[0m\u001b[0mParameters\u001b[0m\u001b[1;33m(\u001b[0m\u001b[0mcalibrate\u001b[0m\u001b[1;33m(\u001b[0m\u001b[0mpath\u001b[0m\u001b[1;33m,\u001b[0m\u001b[0mextension\u001b[0m\u001b[1;33m,\u001b[0m\u001b[1;36m30\u001b[0m\u001b[1;33m)\u001b[0m\u001b[1;33m)\u001b[0m\u001b[1;33m)\u001b[0m\u001b[1;33m\u001b[0m\u001b[1;33m\u001b[0m\u001b[0m\n\u001b[0m\u001b[0;32m      4\u001b[0m \u001b[1;31m#parameters=Parameters(calibrate(path,extension,30))\u001b[0m\u001b[1;33m\u001b[0m\u001b[1;33m\u001b[0m\u001b[0m\n",
      "\u001b[1;32m~\\AppData\\Local\\Temp/ipykernel_15452/1522454994.py\u001b[0m in \u001b[0;36mcalibrate\u001b[1;34m(path_images, extension_images, size_chessboard)\u001b[0m\n\u001b[0;32m     26\u001b[0m             \u001b[1;31m#cv.waitKey(100)\u001b[0m\u001b[1;33m\u001b[0m\u001b[1;33m\u001b[0m\u001b[0m\n\u001b[0;32m     27\u001b[0m     \u001b[1;31m#cv.destroyAllWindows()\u001b[0m\u001b[1;33m\u001b[0m\u001b[1;33m\u001b[0m\u001b[0m\n\u001b[1;32m---> 28\u001b[1;33m     \u001b[0mret\u001b[0m\u001b[1;33m,\u001b[0m \u001b[0mmtx\u001b[0m\u001b[1;33m,\u001b[0m \u001b[0mdist\u001b[0m\u001b[1;33m,\u001b[0m \u001b[0mrvecs\u001b[0m\u001b[1;33m,\u001b[0m \u001b[0mtvecs\u001b[0m \u001b[1;33m=\u001b[0m \u001b[0mcv\u001b[0m\u001b[1;33m.\u001b[0m\u001b[0mcalibrateCamera\u001b[0m\u001b[1;33m(\u001b[0m\u001b[0mobjpoints\u001b[0m\u001b[1;33m,\u001b[0m \u001b[0mimgpoints\u001b[0m\u001b[1;33m,\u001b[0m \u001b[0mgray\u001b[0m\u001b[1;33m.\u001b[0m\u001b[0mshape\u001b[0m\u001b[1;33m[\u001b[0m\u001b[1;33m:\u001b[0m\u001b[1;33m:\u001b[0m\u001b[1;33m-\u001b[0m\u001b[1;36m1\u001b[0m\u001b[1;33m]\u001b[0m\u001b[1;33m,\u001b[0m \u001b[1;32mNone\u001b[0m\u001b[1;33m,\u001b[0m \u001b[1;32mNone\u001b[0m\u001b[1;33m)\u001b[0m\u001b[1;33m\u001b[0m\u001b[1;33m\u001b[0m\u001b[0m\n\u001b[0m\u001b[0;32m     29\u001b[0m     \u001b[1;32mreturn\u001b[0m \u001b[0mParameters\u001b[0m\u001b[1;33m(\u001b[0m\u001b[0mret\u001b[0m\u001b[1;33m,\u001b[0m \u001b[0mmtx\u001b[0m\u001b[1;33m,\u001b[0m \u001b[0mdist\u001b[0m\u001b[1;33m,\u001b[0m \u001b[0mrvecs\u001b[0m\u001b[1;33m,\u001b[0m \u001b[0mtvecs\u001b[0m\u001b[1;33m)\u001b[0m\u001b[1;33m\u001b[0m\u001b[1;33m\u001b[0m\u001b[0m\n",
      "\u001b[1;31merror\u001b[0m: OpenCV(4.5.5) D:\\a\\opencv-python\\opencv-python\\opencv\\modules\\calib3d\\src\\calibration.cpp:3358: error: (-2:Unspecified error) in function 'void __cdecl cv::collectCalibrationData(const class cv::_InputArray &,const class cv::_InputArray &,const class cv::_InputArray &,int,class cv::Mat &,class cv::Mat &,class cv::Mat *,class cv::Mat &)'\n> Number of object and image points must be equal (expected: 'numberOfObjectPoints == numberOfImagePoints'), where\n>     'numberOfObjectPoints' is 42\n> must be equal to\n>     'numberOfImagePoints' is 54\n"
     ]
    }
   ],
   "source": [
    "path='img/images/far/'\n",
    "extension='jpg'\n",
    "print(Parameters(calibrate(path,extension,30)))\n",
    "#parameters=Parameters(calibrate(path,extension,30))\n"
   ]
  },
  {
   "cell_type": "code",
   "execution_count": null,
>>>>>>> b1dfc7e94ae5aaea4d537a56a649ff424c0a1bef
   "metadata": {},
   "outputs": [],
   "source": [
    "def radial_correction(path_images,extension_images,parameters):\n",
    "    images = glob.glob(path_images+'*.'+extension_images)\n",
    "    for fname in images:\n",
    "        img = cv.imread(fname)\n",
    "        h,  w = img.shape[:2]\n",
    "        newcameramtx, roi = cv.getOptimalNewCameraMatrix(parameters.mtx, parameters.dist, (w,h), 1, (w,h))\n",
    "        # undistort\n",
    "        dst = cv.undistort(img, parameters.mtx, parameters.dist, None, newcameramtx)\n",
    "        # crop the image\n",
    "        x, y, w, h = roi\n",
    "        dst = dst[y:y+h, x:x+w]\n",
    "        cv.imwrite(fname, dst)"
   ]
  },
  {
   "cell_type": "code",
<<<<<<< HEAD
   "execution_count": 41,
=======
   "execution_count": null,
>>>>>>> b1dfc7e94ae5aaea4d537a56a649ff424c0a1bef
   "metadata": {},
   "outputs": [],
   "source": [
    "def radial_correction_beta(path_images,extension_images,parameters):\n",
    "    images = glob.glob(path_images+'*.'+extension_images)\n",
    "    for fname in images:\n",
    "        img = cv.imread(fname)\n",
    "        h,  w = img.shape[:2]\n",
    "        newcameramtx, roi = cv.getOptimalNewCameraMatrix(parameters.mtx, parameters.dist, (w,h), 1, (w,h))\n",
    "        # undistort\n",
    "        mapx, mapy = cv.initUndistortRectifyMap(parameters.mtx, parameters.dist, None, newcameramtx, (w,h), 5)\n",
    "        dst = cv.remap(img, mapx, mapy, cv.INTER_LINEAR)\n",
    "        # crop the image\n",
    "        x, y, w, h = roi\n",
    "        dst = dst[y:y+h, x:x+w]\n",
    "        cv.imwrite(fname, dst)"
   ]
  },
  {
   "cell_type": "markdown",
   "metadata": {},
   "source": [
    "# Test"
   ]
  },
  {
   "cell_type": "code",
<<<<<<< HEAD
   "execution_count": 141,
   "metadata": {},
   "outputs": [
    {
     "name": "stdout",
     "output_type": "stream",
     "text": [
      "[[791.32600033   0.         397.27705801]\n",
      " [  0.         791.93127323 222.52070159]\n",
      " [  0.           0.           1.        ]]\n"
     ]
    }
   ],
   "source": [
    "path='img/images/'\n",
    "extension='jpg'\n",
    "\n",
    "parameters=calibrate(path,extension,30)\n",
    "print(parameters.mtx)\n"
=======
   "execution_count": null,
   "metadata": {},
   "outputs": [],
   "source": [
    "'''\n",
    "mean_error = 0\n",
    "for i in range(len(objpoints)):\n",
    "    imgpoints2, _ = cv.projectPoints(objpoints[i], rvecs[i], tvecs[i], mtx, dist)\n",
    "    error = cv.norm(imgpoints[i], imgpoints2, cv.NORM_L2)/len(imgpoints2)\n",
    "    mean_error += error\n",
    "print( \"total error: {}\".format(mean_error/len(objpoints)) )\n",
    "'''"
>>>>>>> b1dfc7e94ae5aaea4d537a56a649ff424c0a1bef
   ]
  }
 ],
 "metadata": {
  "kernelspec": {
   "display_name": "Python 3.9.7 64-bit",
   "language": "python",
   "name": "python3"
  },
  "language_info": {
   "codemirror_mode": {
    "name": "ipython",
    "version": 3
   },
   "file_extension": ".py",
   "mimetype": "text/x-python",
   "name": "python",
   "nbconvert_exporter": "python",
   "pygments_lexer": "ipython3",
   "version": "3.9.7"
  },
  "orig_nbformat": 4,
  "vscode": {
   "interpreter": {
    "hash": "6559896bde82af36ce4d35b7efb79261677e30d0480807b58d999c32c3beec7f"
   }
  }
 },
 "nbformat": 4,
 "nbformat_minor": 2
}
